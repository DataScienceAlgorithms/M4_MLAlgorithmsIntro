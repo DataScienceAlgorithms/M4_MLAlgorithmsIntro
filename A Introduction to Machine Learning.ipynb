{
 "cells": [
  {
   "cell_type": "markdown",
   "metadata": {},
   "source": [
    "# [CPSC 322]() Data Science Algorithms\n",
    "[Gonzaga University](https://www.gonzaga.edu/) |\n",
    "[Sophina Luitel](https://www.gonzaga.edu/school-of-engineering-applied-science/faculty/detail/sophina-luitel-phd-0dba6a9d)\n",
    "\n",
    "---\n",
    "\n",
    "# Introduction to Algorithm\n",
    "What are our learning objectives for this lesson?\n",
    "* Understand what machine learning is\n",
    "* Revisit the concept of labelled and unlabelled data\n",
    "* Understand the difference between supervised and unsupervised machine learning\n",
    "* Understand the difference between classification and regression\n",
    "* Learn to write our our unit test\n",
    "\n",
    "Content used in this lesson is based upon information in the following sources:\n",
    "* Dr. Gina Sprint's Data Science Algorithms, Fall 2024"
   ]
  },
  {
   "cell_type": "markdown",
   "metadata": {},
   "source": [
    "## Today \n",
    "* Announcements\n",
    "    * No quiz on Friday. IQ3 is canceled \n",
    "    * PA3 is due on 8th Oct.\n",
    "* Start Machine Learning Algorithms Intro\n",
    "* Practice writing assert statements\n",
    "* Review TDD (Test-Driven Development) workflow for next class."
   ]
  },
  {
   "cell_type": "markdown",
   "metadata": {},
   "source": [
    "# What is an Algorithm?\n",
    "\n",
    "An algorithm is a step-by-step procedure or a set of rules used to solve a problem or perform a computation. Algorithms form the foundation of computer programs and data processing.\n",
    "* Think of a recipe: it tells you exactly what steps to follow to prepare a meal. An algorithm does the same, just for data or a problem.\n",
    "\n",
    "## Why Are Algorithms Important?\n",
    "\n",
    "* They automate tasks and enable computers to solve problems efficiently.\n",
    "\n",
    "* Algorithms are the core of machine learning models, they tell the model how to learn from data.\n",
    "\n",
    "* Understanding algorithms helps you evaluate model performance, choose the right model, and optimize your solutions."
   ]
  },
  {
   "cell_type": "markdown",
   "metadata": {},
   "source": [
    "## Machine Learning\n",
    "At a high level, machine learning is building and using models that are learned from data. Machine learning is a subset of artificial intelligence, and it greatly overlaps with data mining. Let's see the \"unofficial\" definitions for these areas from Wikipedia:\n",
    "* [Data mining](https://en.wikipedia.org/wiki/Data_mining): The computational process of discovering patterns in large data sets involving methods at the intersection of artificial intelligence, machine learning, statistics, and database systems. It is an interdisciplinary subfield of computer science. The overall goal of the data mining process is to extract information from a data set and transform it into an understandable structure for further use.\n",
    "    * Take away point: Discovering and using patterns in data\n",
    "* [Artificial intelligence](https://en.wikipedia.org/wiki/Artificial_intelligence): The study of \"intelligent agents\": any device that perceives its environment and takes actions that maximize its chance of success at some goal. Colloquially, the term \"artificial intelligence\" is applied when a machine mimics \"cognitive\" functions that humans associate with other human minds, such as \"learning\" and \"problem solving\" (known as Machine Learning).\n",
    "    * Take away point: Implementing human-cognition on a machine\n",
    "* [Machine learning](https://en.wikipedia.org/wiki/Machine_learning): The subfield of computer science that, according to Arthur Samuel in 1959, gives \"computers the ability to learn without being explicitly programmed.\" Evolved from the study of pattern recognition and computational learning theory in artificial intelligence, machine learning explores the study and construction of algorithms that can learn from and make predictions on data – such algorithms overcome following strictly static program instructions by making data driven predictions or decisions, through building a model from sample inputs.\n",
    "    * Take away point: Learning from and making predictions on data"
   ]
  },
  {
   "cell_type": "markdown",
   "metadata": {},
   "source": [
    "# Types of Algorithms in Machine Learning\n",
    "\n",
    "**1. Supervised Learning Algorithms**\n",
    "  * Learn from labeled data.\n",
    "  * Examples: Linear Regression, Decision Trees, SVM.  \n",
    "\n",
    "**2. Unsupervised Learning Algorithms**\n",
    "  * Find patterns in unlabeled data.\n",
    "  * Examples: K-Means, PCA, DBSCAN.  \n",
    "    \n",
    "**3. Reinforcement Learning Algorithms**\n",
    "  * Learn through rewards and punishments.\n",
    "  * Examples: Q-learning, Deep Q-Networks (DQNs)  \n",
    "    \n",
    "    \n",
    "## Key Steps in Using Algorithms \n",
    "1. Define the problem clearly.\n",
    "2. Choose the appropriate algorithm type.\n",
    "3. Train the algorithm using data.\n",
    "4. Evaluate performance.\n",
    "5. Tune and optimize for better results."
   ]
  },
  {
   "cell_type": "markdown",
   "metadata": {},
   "source": [
    "## Supervised Learning\n",
    "Supervised learning requires \"labeled\" training data from a \"supervisor.\" Such labels are considered the ground-truth for describing the data. The label comes from a knowledgeable expert and can be used to learn what information describes different labels.\n",
    "* If the labeled attribute is categorical, then the learning task is called \"classification\"\n",
    "* If the labeled attribute is continuous, then the learning task is called \"regression\"\n",
    "\n",
    "Supervised learning is typically composed of training and testing. We will train a machine (AKA a student, learner, mathematical model) to learn a concept. Then we will test the machine's learned concept by applying their knowledge.\n",
    "\n",
    "<img src=\"https://upload.wikimedia.org/wikipedia/commons/thumb/0/09/Supervised_machine_learning_in_a_nutshell.svg/2000px-Supervised_machine_learning_in_a_nutshell.svg.png\" width=\"650\">\n",
    "\n",
    "Image from [Wikimdedia](https://upload.wikimedia.org/wikipedia/commons/thumb/0/09/Supervised_machine_learning_in_a_nutshell.svg/2000px-Supervised_machine_learning_in_a_nutshell.svg.png)\n",
    "\n",
    "### Training\n",
    "As an example, suppose you are trying to teach someone (say a student) who has no notion of a cat or dog, the concept of cat vs. dog. You might first show the student some pictures of cats and say, \"these are cats\". Then you might show the person some pictures of dogs and say, \"these are dogs\". The set of cat and dog images is called the *training set*, a set of labeled examples (e.g. *instances*). For example, consider the following cat vs. dog training set:\n",
    "\n",
    "<img src=\"https://raw.githubusercontent.com/DataScienceAlgorithms/M4_MLAlgorithmsIntro/main/figures/cat_dog_training.png\" width=\"500\"/>\n",
    "\n",
    "The student is going to look at different attributes of the image to try to learn a model of cat and a model of a dog. In doing so, the student will identify some aspects (AKA *attributes* or *features*) of the examples that distinguish a cat vs a dog. The features might include:\n",
    "\n",
    "|Feature|Cat value|Dog value|\n",
    "|-|-|-|\n",
    "|Tongue out|No|Yes|\n",
    "|Fur color|Light|Dark|\n",
    "|Ears up|Yes|No|\n",
    "\n",
    "What other features did you come up with?\n",
    "\n",
    "#### Building a Model\n",
    "A model to represent cat vs. dog based on these features might be rule-based:\n",
    "\n",
    ">if tongue is out and the fur is dark and the ears are down then this is a dog\n",
    "\n",
    "We will see later how we can use a tree with a rules (like the above) as a model to represent a classification such as dog vs. cat!\n",
    "\n",
    "### Testing\n",
    "Now, suppose we want to apply the student's learned conception of dog vs. cat by providing the student with a new, unseen example:\n",
    "\n",
    "<img src=\"https://raw.githubusercontent.com/DataScienceAlgorithms/M4_MLAlgorithmsIntro/main/figures/cat_or_dog.png\" width=\"150\"/>\n",
    "\n",
    "Based on the above features, this image has the tongue out (dog), light fur color (cat), and ears up (cat). Thus our student would likely classify this image as a cat. But wait! We (the expert supervisors) know this is a dog (a puppy, but a dog none the less). Our training set didn't include any images that were as borderline cat/dog as this testing example. As you can see, the examples that comprise your training set and the features that are utilized greatly impact the accuracy of the learner, and consequently the model that is built. "
   ]
  },
  {
   "cell_type": "markdown",
   "metadata": {},
   "source": [
    "### Classification and Regression\n",
    "The basic of idea of classification is:\n",
    "* Given a data set (samples) and a new, unclassified instance\n",
    "* Try to predict its classification (based on samples)\n",
    "\n",
    "Note regression can be used in a similar way ... Let's say we have: $y = mx + b$\n",
    "\n",
    "Q: How do we use this on a new instance?\n",
    "* Predict a new $y'$ value from a new, unseen instance $x_{unseen}$ by calculating $y' = mx_{unseen} + b$\n",
    "\n",
    "Approaches we will look at to classification\n",
    "* k Nearest Neighbor (k-NN)... find \"close cases\"\n",
    "* Naive Bayes... select \"most probable\" class for instance\n",
    "* Decision Tree Induction... find \"general\" rules based on entropy\n",
    "* Ensemble Methods... use many approaches to find best class (hybrid)\n",
    "\n",
    "We'll also look at ways to evaluate classification results\n",
    "* These largely involve splitting up a data set into training and testing sets\n",
    "* Plus some basic statistics/metrics for accuracy, error"
   ]
  },
  {
   "cell_type": "markdown",
   "metadata": {},
   "source": [
    "## Unsupervised Learning\n",
    "Unsupervised learning does not require labeled training data. Information learned from the examples is data-driven and includes the process of discovering and describing patterns in the data. \n",
    "\n",
    "For example, to apply unsupervised learning to our cat vs. dog example, we would not try to \"train\" our student to learn the notion of \"cat\" or \"dog\". Instead, we would have our student look for patterns in the data, or perhaps a natural grouping. \n",
    "\n",
    "Here are our cat-dog training examples sorted in order based on the feature fur color:\n",
    "\n",
    "<img src=\"https://raw.githubusercontent.com/DataScienceAlgorithms/M4_MLAlgorithmsIntro/main/figures/cat_dog_fur_ordering.png\" width=\"500\"/>\n",
    "\n",
    "We could apply a clustering algorithm, such as $k$-means clustering, to the data to reveal two natural groups in the data ($k = 2$):\n",
    "\n",
    "<img src=\"https://raw.githubusercontent.com/DataScienceAlgorithms/M4_MLAlgorithmsIntro/main/figures/cat_dog_grouping.png\" width=\"500\"/>\n",
    "\n",
    "Note that these two groups, blue and red, are not representative of cat and dog, since we have no cat/dog labels!\n",
    "\n",
    "Now, upon seeing a new instance, we can determine the new instance's membership to either the blue group or the red group:\n",
    "\n",
    "<img src=\"https://raw.githubusercontent.com/DataScienceAlgorithms/M4_MLAlgorithmsIntro/main/figures/cat_dog_membership.png\" width=\"500\"/>\n",
    "\n",
    "Like supervised machine learning, there are several unsupervised machine learning algorithms."
   ]
  },
  {
   "cell_type": "markdown",
   "metadata": {},
   "source": [
    "\n",
    "### Testing Your Code with `assert`\n",
    "\n",
    "When writing tests, the `assert` statement checks if your code behaves as expected.  \n",
    "There are two main ways to decide what to assert against:\n",
    "\n",
    "1. Desk Calculation (manual expected result)  \n",
    "   Compare your function’s output with a known correct answer that you calculated by hand.\n",
    "2. Known Correct Implementation  \n",
    "   Compare your function’s output against a trusted library function (e.g., Python’s built-in math.sqrt)."
   ]
  },
  {
   "cell_type": "markdown",
   "metadata": {},
   "source": [
    "## Practice Question\n",
    "* In MatplotlibExamples.ipynb, create some xy data with a linear relationship:\n",
    "```python\n",
    "x = list(range(0, 100))\n",
    "y = [value * 2 + np.random.normal(0, 25) for value in x]\n",
    "```\n",
    "* Write a function to compute $m$ and $b$ for the above \"y = 2x + some noise\" data\n",
    "$$m = \\frac{\\sum_{i=1}^{n}(x_i - \\bar{x})(y_i - \\bar{y})}{\\sum_{i=1}^{n}(x_i - \\bar{x})^2}$$\n",
    "* Use assert statements to test your $m$ and $b$ against SciPy's `slope` and `intercept`: https://docs.scipy.org/doc/scipy/reference/generated/scipy.stats.linregress.html"
   ]
  },
  {
   "cell_type": "markdown",
   "metadata": {},
   "source": [
    "### Test-Driven Development (TDD)\n",
    "\n",
    "### What is TDD?  \n",
    "[Test-Driven Development (TDD)](https://en.wikipedia.org/wiki/Test-driven_development) is a workflow where you write tests before writing the actual code. The process ensures that your code meets expected behavior from the start.  \n",
    "It is often described by the cycle: *Red → Green → Refactor*  \n",
    "- *Red*: Write a test that fails (because the feature isn’t implemented yet).  \n",
    "- *Green*: Write the minimal code to make the test pass.  \n",
    "- *Refactor*: Improve the code while keeping all tests passing.  \n",
    "\n",
    "## Steps in TDD\n",
    "1. Write a test that defines the expected behavior.  \n",
    "2. Run the test – it will fail since the code doesn’t exist yet.  \n",
    "3. Implement minimal code to make the test pass.  \n",
    "4. Refactor code while ensuring tests still pass.  \n",
    "5. Repeat for new functionality.  "
   ]
  }
 ],
 "metadata": {
  "anaconda-cloud": {},
  "kernelspec": {
   "display_name": "Python 3 (ipykernel)",
   "language": "python",
   "name": "python3"
  },
  "language_info": {
   "codemirror_mode": {
    "name": "ipython",
    "version": 3
   },
   "file_extension": ".py",
   "mimetype": "text/x-python",
   "name": "python",
   "nbconvert_exporter": "python",
   "pygments_lexer": "ipython3",
   "version": "3.13.5"
  }
 },
 "nbformat": 4,
 "nbformat_minor": 4
}
